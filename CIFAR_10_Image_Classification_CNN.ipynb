{
  "nbformat": 4,
  "nbformat_minor": 0,
  "metadata": {
    "colab": {
      "private_outputs": true,
      "provenance": [],
      "gpuType": "T4",
      "authorship_tag": "ABX9TyNzCa1huNVZcR4gn4PgHSse",
      "include_colab_link": true
    },
    "kernelspec": {
      "name": "python3",
      "display_name": "Python 3"
    },
    "language_info": {
      "name": "python"
    },
    "accelerator": "GPU",
    "gpuClass": "standard"
  },
  "cells": [
    {
      "cell_type": "markdown",
      "metadata": {
        "id": "view-in-github",
        "colab_type": "text"
      },
      "source": [
        "<a href=\"https://colab.research.google.com/github/s1scottd/CIFAR-10_Image-Classification-CNN/blob/main/CIFAR_10_Image_Classification_CNN.ipynb\" target=\"_parent\"><img src=\"https://colab.research.google.com/assets/colab-badge.svg\" alt=\"Open In Colab\"/></a>"
      ]
    },
    {
      "cell_type": "markdown",
      "source": [
        "## Import Libraries. "
      ],
      "metadata": {
        "id": "WH6tQ9ZmOePE"
      }
    },
    {
      "cell_type": "code",
      "execution_count": null,
      "metadata": {
        "id": "G66PhfVwFeAy"
      },
      "outputs": [],
      "source": [
        "import os\n",
        "import tensorflow as tf\n",
        "import matplotlib as mplt\n",
        "import matplotlib.pyplot as plt\n",
        "import matplotlib.gridspec as gs\n",
        "import numpy as np\n",
        "\n",
        "from tensorflow import keras\n",
        "from keras.datasets import mnist\n",
        "from keras import layers\n",
        "from keras.models import Sequential\n",
        "from keras.layers import Conv2D, MaxPooling2D, Flatten, Dense, Dropout\n",
        "\n",
        "from keras.datasets import cifar10\n",
        "print(f\"tensorflow version: {tf.__version__}\")\n",
        "print(f\"numpy version: {np.__version__}\")\n",
        "print(f\"keras version: {keras.__version__}\")"
      ]
    },
    {
      "cell_type": "markdown",
      "source": [
        "##Prepare the data"
      ],
      "metadata": {
        "id": "hL6X9a9BUCCP"
      }
    },
    {
      "cell_type": "markdown",
      "source": [
        "Define a reshape and normalize function"
      ],
      "metadata": {
        "id": "Z4mnjdPkTATZ"
      }
    },
    {
      "cell_type": "code",
      "source": [
        "def normalize(data):\n",
        "  data = data/255.\n",
        "  return data"
      ],
      "metadata": {
        "id": "_lh3_T9aSrSW"
      },
      "execution_count": null,
      "outputs": []
    },
    {
      "cell_type": "markdown",
      "source": [
        "Load, Reshape and Normalize the CIFR-10 Dataset"
      ],
      "metadata": {
        "id": "eOpccRwXTHCz"
      }
    },
    {
      "cell_type": "code",
      "source": [
        "# Load CIFAR-10 dataset\n",
        "(X_train, y_train), (X_test, y_test) = cifar10.load_data()\n",
        "\n",
        "X_train = X_train[:-10000]\n",
        "X_val = X_train[-10000:]\n",
        "y_train = y_train[:-10000]\n",
        "y_val = y_train[-10000:]\n",
        "\n",
        "X_train = normalize(X_train)\n",
        "X_test = normalize(X_test)\n",
        "X_val = normalize(X_val)\n",
        "print(f\"X_train shape: {X_train.shape}\")\n",
        "print(f\"X_test shape:  {X_test.shape}\")\n",
        "print(f\"X_val shape: {X_val.shape}\")"
      ],
      "metadata": {
        "id": "cXHhO-M7NEAI"
      },
      "execution_count": null,
      "outputs": []
    },
    {
      "cell_type": "markdown",
      "source": [
        "Define an image display function"
      ],
      "metadata": {
        "id": "uo21WLXCI5y4"
      }
    },
    {
      "cell_type": "code",
      "source": [
        "\n",
        "\n",
        "def display_images(data, labels):\n",
        "  \n",
        "  labels = labels.reshape(-1)\n",
        "\n",
        "  labels_dict = {\n",
        "    0: 'airplane',\n",
        "    1: 'automobile',\n",
        "    2: 'bird',\n",
        "    3: 'cat',\n",
        "    4: 'deer',\n",
        "    5: 'dog',\n",
        "    6: 'frog',\n",
        "    7: 'horse',\n",
        "    8: 'ship',\n",
        "    9: 'truck'\n",
        "  }\n",
        "\n",
        "  fig, axes = plt.subplots(3, 3, figsize=(10, 10))\n",
        "\n",
        "  for i, ax in enumerate(axes.flat):\n",
        "    img = data[i]\n",
        "    label = labels[i]\n",
        "    \n",
        "    ax.imshow(img)\n",
        "    ax.set_title(f\"{labels_dict[label]}\")\n",
        "    ax.axis('off')\n",
        "\n",
        "  plt.show()"
      ],
      "metadata": {
        "id": "WRkHS0AfI_AX"
      },
      "execution_count": null,
      "outputs": []
    },
    {
      "cell_type": "markdown",
      "source": [
        "Here are the first 9 images"
      ],
      "metadata": {
        "id": "FjzfdS8TFGCj"
      }
    },
    {
      "cell_type": "code",
      "source": [
        "# visualize data by plotting images\n",
        "display_images(X_train, y_train)"
      ],
      "metadata": {
        "id": "jvUyCcyQFJ1_"
      },
      "execution_count": null,
      "outputs": []
    },
    {
      "cell_type": "markdown",
      "source": [
        "# Convolutional Neural Network without Tuning"
      ],
      "metadata": {
        "id": "8c9K-oLUORBf"
      }
    },
    {
      "cell_type": "markdown",
      "source": [
        "Define and compile the CNN model"
      ],
      "metadata": {
        "id": "9eEWbdbLNwgr"
      }
    },
    {
      "cell_type": "code",
      "source": [
        "# Define the CNN model\n",
        "model = Sequential([\n",
        "    Conv2D(64, (3, 3), activation='relu', input_shape=(32, 32, 3)),\n",
        "    MaxPooling2D((2, 2)),\n",
        "    Dropout(0.25),\n",
        "\n",
        "    Conv2D(128, (3, 3), activation='relu'),\n",
        "    MaxPooling2D((2, 2)),\n",
        "    Dropout(0.25),\n",
        "\n",
        "    Flatten(),\n",
        "    Dense(64, activation='relu'),\n",
        "    Dropout(0.5),\n",
        "    Dense(10)\n",
        "])\n",
        "\n",
        "# Compile the model\n",
        "model.compile(optimizer='adam', \n",
        "              loss=tf.keras.losses.SparseCategoricalCrossentropy(from_logits=True), \n",
        "              metrics=['accuracy'])\n",
        "\n",
        "model.summary()"
      ],
      "metadata": {
        "id": "hOdbI6weNPg2"
      },
      "execution_count": null,
      "outputs": []
    },
    {
      "cell_type": "markdown",
      "source": [
        "Create a callback that will stop fitting the model once it reaches 95% accuracy."
      ],
      "metadata": {
        "id": "cFrQJzfRYNw0"
      }
    },
    {
      "cell_type": "code",
      "source": [
        "class callback_98(tf.keras.callbacks.Callback):\n",
        "  def on_epoch_end(self, epoch, logs=[]):\n",
        "    if (logs.get(\"val_accuracy\") >= 0.98):\n",
        "      self.model.stop_training = True\n",
        "      print(f\"\\nReached 98% accuracy so cancelling training after {epoch} epochs.\\n\")"
      ],
      "metadata": {
        "id": "CwvPoDR7YVcS"
      },
      "execution_count": null,
      "outputs": []
    },
    {
      "cell_type": "markdown",
      "source": [
        "Fit the CNN model"
      ],
      "metadata": {
        "id": "eyXC2USUNPM4"
      }
    },
    {
      "cell_type": "code",
      "source": [
        "# Train the model\n",
        "callbacks = callback_98()\n",
        "history = model.fit(X_train, y_train, epochs=100, batch_size=64, validation_data=(X_val, y_val), callbacks=[callbacks])"
      ],
      "metadata": {
        "id": "6zZLpoxrNY-6"
      },
      "execution_count": null,
      "outputs": []
    },
    {
      "cell_type": "markdown",
      "source": [
        "Loss and Accuracy"
      ],
      "metadata": {
        "id": "irQS67oqb-Zt"
      }
    },
    {
      "cell_type": "code",
      "source": [
        "plt.subplot(2, 1, 1)\n",
        "plt.title('Loss')\n",
        "plt.plot(history.history['loss'], color='blue', label='train')\n",
        "plt.plot(history.history['val_loss'], color='orange', label='test')\n",
        "plt.legend(loc=\"upper right\")\n",
        "\n",
        "plt.subplot(2, 1, 2)\n",
        "plt.title('Accuracy')\n",
        "plt.plot(history.history['accuracy'], color='blue', label='train')\n",
        "plt.plot(history.history['val_accuracy'], color='orange', label='test')\n",
        "plt.legend(loc=\"lower right\")\n",
        "\n",
        "plt.subplots_adjust(hspace=0.5)"
      ],
      "metadata": {
        "id": "3XO9SF9Kf2iV"
      },
      "execution_count": null,
      "outputs": []
    },
    {
      "cell_type": "markdown",
      "source": [
        "Evaluate the model"
      ],
      "metadata": {
        "id": "JdHMkmueNdFI"
      }
    },
    {
      "cell_type": "code",
      "source": [
        "# Evaluate the model\n",
        "test_loss, test_acc = model.evaluate(X_test,  y_test, verbose=2)"
      ],
      "metadata": {
        "id": "at-z-j8VNdm-"
      },
      "execution_count": null,
      "outputs": []
    },
    {
      "cell_type": "markdown",
      "source": [
        "# Convolutional Neural Network with Tuning"
      ],
      "metadata": {
        "id": "y1jB8XTcPAGF"
      }
    },
    {
      "cell_type": "markdown",
      "source": [
        "Install and import Tuner"
      ],
      "metadata": {
        "id": "FJc7hxCVHtSE"
      }
    },
    {
      "cell_type": "code",
      "source": [
        "!pip install keras-tuner --upgrade\n",
        "import keras_tuner\n",
        "keras_tuner_version = keras_tuner.__version__\n",
        "print(f\"keras_tuner version: {keras_tuner_version}\")"
      ],
      "metadata": {
        "id": "WVajH0k-H_N4"
      },
      "execution_count": null,
      "outputs": []
    },
    {
      "cell_type": "markdown",
      "source": [
        "Create a tunable model"
      ],
      "metadata": {
        "id": "iTzCiyiZPgXZ"
      }
    },
    {
      "cell_type": "code",
      "source": [
        "\n",
        "\n",
        "def build_model(hp):\n",
        "  model = Sequential()\n",
        "\n",
        "  model.add(Conv2D(32, (3, 3), activation='relu', input_shape=(32, 32, 3)))\n",
        "  model.add(MaxPooling2D((2, 2)))\n",
        "  model.add(Conv2D(64, (3, 3), activation='relu'))\n",
        "  model.add(MaxPooling2D((2, 2)))\n",
        "  \n",
        "  model.add(Flatten())\n",
        "  model.add(Dense(\n",
        "        # tune number of units\n",
        "        units = hp.Int('units', min_value=32, max_value=512, step=32),\n",
        "        # tune the activation function to use\n",
        "        activation=hp.Choice(\"activation\", [\"relu\", \"tanh\"])))\n",
        "  model.add(Dense(10, activation=\"softmax\"))\n",
        "  \n",
        "  learning_rate = hp.Float(\"lr\", min_value=1e-4, max_value=1e-2, sampling=\"log\")\n",
        "  model.compile(optimizer=keras.optimizers.Adam(learning_rate=learning_rate), \n",
        "              loss=tf.keras.losses.SparseCategoricalCrossentropy(from_logits=True), \n",
        "              metrics=['accuracy'])\n",
        "  \n",
        "  return model"
      ],
      "metadata": {
        "id": "kKtX58EIH0LZ"
      },
      "execution_count": null,
      "outputs": []
    },
    {
      "cell_type": "markdown",
      "source": [
        "Build and Compile the model"
      ],
      "metadata": {
        "id": "6Gnyrd-sI_Ay"
      }
    },
    {
      "cell_type": "code",
      "source": [
        "build_model(keras_tuner.HyperParameters())"
      ],
      "metadata": {
        "id": "O4zmZ0T_Q7HD"
      },
      "execution_count": null,
      "outputs": []
    },
    {
      "cell_type": "markdown",
      "source": [
        "Create the tuner"
      ],
      "metadata": {
        "id": "WBavstE7Q8Xq"
      }
    },
    {
      "cell_type": "code",
      "source": [
        "tuner = keras_tuner.RandomSearch(\n",
        "    hypermodel=build_model,\n",
        "    objective='val_accuracy',\n",
        "    max_trials=100,\n",
        "    executions_per_trial=2,\n",
        "    directory='my_dir',\n",
        "    project_name = \"cifar10-image-classification-cnn\")"
      ],
      "metadata": {
        "id": "C5FSHGSsI_fW"
      },
      "execution_count": null,
      "outputs": []
    },
    {
      "cell_type": "markdown",
      "source": [
        "Execute a search for the best model"
      ],
      "metadata": {
        "id": "CQOlv45vJSkv"
      }
    },
    {
      "cell_type": "code",
      "source": [
        "stop_early =  callback_95()\n",
        "\n",
        "tuner.search(X_train, y_train, epochs=100, validation_data=(X_val, y_val), callbacks=[stop_early])\n",
        "best_model = tuner.get_best_models()[0]\n",
        "print(f\"Search Space Summary:\\n{tuner.search_space_summary}\")"
      ],
      "metadata": {
        "id": "VmgYXH0PJTLq"
      },
      "execution_count": null,
      "outputs": []
    }
  ]
}