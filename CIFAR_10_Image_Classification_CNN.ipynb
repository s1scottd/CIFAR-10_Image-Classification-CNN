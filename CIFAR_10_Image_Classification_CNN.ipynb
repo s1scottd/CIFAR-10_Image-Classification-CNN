{
  "nbformat": 4,
  "nbformat_minor": 0,
  "metadata": {
    "colab": {
      "private_outputs": true,
      "provenance": [],
      "toc_visible": true,
      "gpuType": "T4",
      "authorship_tag": "ABX9TyOCTfFHrm5iZwQNYZ4hxjIJ",
      "include_colab_link": true
    },
    "kernelspec": {
      "name": "python3",
      "display_name": "Python 3"
    },
    "language_info": {
      "name": "python"
    },
    "accelerator": "GPU",
    "gpuClass": "standard"
  },
  "cells": [
    {
      "cell_type": "markdown",
      "metadata": {
        "id": "view-in-github",
        "colab_type": "text"
      },
      "source": [
        "<a href=\"https://colab.research.google.com/github/s1scottd/CIFAR-10_Image-Classification-CNN/blob/main/CIFAR_10_Image_Classification_CNN.ipynb\" target=\"_parent\"><img src=\"https://colab.research.google.com/assets/colab-badge.svg\" alt=\"Open In Colab\"/></a>"
      ]
    },
    {
      "cell_type": "markdown",
      "source": [
        "## Import Libraries. "
      ],
      "metadata": {
        "id": "WH6tQ9ZmOePE"
      }
    },
    {
      "cell_type": "code",
      "execution_count": null,
      "metadata": {
        "id": "G66PhfVwFeAy"
      },
      "outputs": [],
      "source": [
        "import os\n",
        "import tensorflow as tf\n",
        "import matplotlib.pyplot as plt\n",
        "import numpy as np\n",
        "\n",
        "from tensorflow import keras\n",
        "from keras.datasets import mnist\n",
        "from keras import layers\n",
        "from keras.models import Sequential\n",
        "from keras.layers import Conv2D, MaxPooling2D, Flatten, Dense\n",
        "\n",
        "from keras.datasets import cifar10"
      ]
    },
    {
      "cell_type": "markdown",
      "source": [
        "##Prepare the data"
      ],
      "metadata": {
        "id": "hL6X9a9BUCCP"
      }
    },
    {
      "cell_type": "markdown",
      "source": [
        "Define a reshape and normalize function"
      ],
      "metadata": {
        "id": "Z4mnjdPkTATZ"
      }
    },
    {
      "cell_type": "code",
      "source": [
        "def reshape_and_normalize(data):\n",
        "  shape = data.shape\n",
        "  data = np.reshape(data,(shape[0],32,32,3))\n",
        "  data = data/255.\n",
        "  return data"
      ],
      "metadata": {
        "id": "_lh3_T9aSrSW"
      },
      "execution_count": null,
      "outputs": []
    },
    {
      "cell_type": "markdown",
      "source": [
        "Load, Reshape and Normalize the CIFR-10 Dataset"
      ],
      "metadata": {
        "id": "eOpccRwXTHCz"
      }
    },
    {
      "cell_type": "code",
      "source": [
        "# Load CIFAR-10 dataset\n",
        "(X_train, y_train), (X_test, y_test) = cifar10.load_data()\n",
        "\n",
        "X_train = X_train[:-10000]\n",
        "X_val = X_train[-10000:]\n",
        "y_train = y_train[:-10000]\n",
        "y_val = y_train[-10000:]\n",
        "\n",
        "X_train = reshape_and_normalize(X_train)\n",
        "X_test = reshape_and_normalize(X_test)\n",
        "X_val = reshape_and_normalize(X_val)\n",
        "print(f\"X_train shape: {X_train.shape}\")\n",
        "print(f\"X_test shape:  {X_test.shape}\")\n",
        "print(f\"X_val shape: {X_val.shape}\")"
      ],
      "metadata": {
        "id": "cXHhO-M7NEAI"
      },
      "execution_count": null,
      "outputs": []
    },
    {
      "cell_type": "markdown",
      "source": [
        "# Convolutional Neural Network without Tuning"
      ],
      "metadata": {
        "id": "8c9K-oLUORBf"
      }
    },
    {
      "cell_type": "markdown",
      "source": [
        "Define and compile the CNN model"
      ],
      "metadata": {
        "id": "9eEWbdbLNwgr"
      }
    },
    {
      "cell_type": "code",
      "source": [
        "# Define the CNN model\n",
        "model = Sequential([\n",
        "    Conv2D(32, (3, 3), activation='relu', input_shape=(32, 32, 3)),\n",
        "    MaxPooling2D((2, 2)),\n",
        "    Conv2D(64, (3, 3), activation='relu'),\n",
        "    MaxPooling2D((2, 2)),\n",
        "    Flatten(),\n",
        "    Dense(64, activation='relu'),\n",
        "    Dense(10)\n",
        "])\n",
        "\n",
        "# Compile the model\n",
        "model.compile(optimizer='adam', \n",
        "              loss=tf.keras.losses.SparseCategoricalCrossentropy(from_logits=True), \n",
        "              metrics=['accuracy'])"
      ],
      "metadata": {
        "id": "hOdbI6weNPg2"
      },
      "execution_count": null,
      "outputs": []
    },
    {
      "cell_type": "markdown",
      "source": [
        "Fit the CNN model"
      ],
      "metadata": {
        "id": "eyXC2USUNPM4"
      }
    },
    {
      "cell_type": "code",
      "source": [
        "# Train the model\n",
        "model.fit(X_train, y_train, epochs=10, validation_data=(X_val, y_val))"
      ],
      "metadata": {
        "id": "6zZLpoxrNY-6"
      },
      "execution_count": null,
      "outputs": []
    },
    {
      "cell_type": "markdown",
      "source": [
        "Evaluate the model"
      ],
      "metadata": {
        "id": "JdHMkmueNdFI"
      }
    },
    {
      "cell_type": "code",
      "source": [
        "# Evaluate the model\n",
        "test_loss, test_acc = model.evaluate(X_test,  y_test, verbose=2)\n",
        "print('Test accuracy:', test_acc)"
      ],
      "metadata": {
        "id": "at-z-j8VNdm-"
      },
      "execution_count": null,
      "outputs": []
    },
    {
      "cell_type": "markdown",
      "source": [
        "# Convolutional Neural Network with Tuning"
      ],
      "metadata": {
        "id": "y1jB8XTcPAGF"
      }
    },
    {
      "cell_type": "markdown",
      "source": [
        "Install and import Tuner"
      ],
      "metadata": {
        "id": "FJc7hxCVHtSE"
      }
    },
    {
      "cell_type": "code",
      "source": [
        "!pip install keras-tuner --upgrade\n",
        "import keras_tuner"
      ],
      "metadata": {
        "id": "WVajH0k-H_N4"
      },
      "execution_count": null,
      "outputs": []
    },
    {
      "cell_type": "markdown",
      "source": [
        "Create a tunable model"
      ],
      "metadata": {
        "id": "iTzCiyiZPgXZ"
      }
    },
    {
      "cell_type": "code",
      "source": [
        "\n",
        "\n",
        "def build_model(hp):\n",
        "  model = Sequential()\n",
        "\n",
        "  model.add(Conv2D(32, (3, 3), activation='relu', input_shape=(32, 32, 3)))\n",
        "  model.add(MaxPooling2D((2, 2)))\n",
        "  model.add(Conv2D(64, (3, 3), activation='relu'))\n",
        "  model.add(MaxPooling2D((2, 2)))\n",
        "  model.add(Flatten())\n",
        "  model.add(Dense(\n",
        "        # tune number of units\n",
        "        units = hp.Int('units', min_value=32, max_value=512, step=32),\n",
        "        # tune the activation function to use\n",
        "        activation=hp.Choice(\"activation\", [\"relu\", \"tanh\"])))\n",
        "  model.add(Dense(10, activation=\"softmax\"))\n",
        "  \n",
        "  learning_rate = hp.Float(\"lr\", min_value=1e-4, max_value=1e-2, sampling=\"log\")\n",
        "  model.compile(optimizer=keras.optimizers.Adam(learning_rate=learning_rate), \n",
        "              loss=tf.keras.losses.SparseCategoricalCrossentropy(from_logits=True), \n",
        "              metrics=['accuracy'])\n",
        "  \n",
        "  return model"
      ],
      "metadata": {
        "id": "kKtX58EIH0LZ"
      },
      "execution_count": null,
      "outputs": []
    },
    {
      "cell_type": "markdown",
      "source": [
        "Build and Compile the model"
      ],
      "metadata": {
        "id": "6Gnyrd-sI_Ay"
      }
    },
    {
      "cell_type": "code",
      "source": [
        "build_model(keras_tuner.HyperParameters())"
      ],
      "metadata": {
        "id": "O4zmZ0T_Q7HD"
      },
      "execution_count": null,
      "outputs": []
    },
    {
      "cell_type": "markdown",
      "source": [
        "Create the tuner"
      ],
      "metadata": {
        "id": "WBavstE7Q8Xq"
      }
    },
    {
      "cell_type": "code",
      "source": [
        "tuner = keras_tuner.RandomSearch(\n",
        "    hypermodel=build_model,\n",
        "    objective='accuracy',\n",
        "    max_trials=10,\n",
        "    executions_per_trial=5)"
      ],
      "metadata": {
        "id": "C5FSHGSsI_fW"
      },
      "execution_count": null,
      "outputs": []
    },
    {
      "cell_type": "markdown",
      "source": [
        "Execute a search for the best model"
      ],
      "metadata": {
        "id": "CQOlv45vJSkv"
      }
    },
    {
      "cell_type": "code",
      "source": [
        "tuner.search(X_train, y_train, epochs=5, validation_data=(X_val, y_val))\n",
        "best_model = tuner.get_best_models()[0]\n",
        "print(f\"Search Space Summary:\\n{tuner.search_space_summary}\")"
      ],
      "metadata": {
        "id": "VmgYXH0PJTLq"
      },
      "execution_count": null,
      "outputs": []
    }
  ]
}